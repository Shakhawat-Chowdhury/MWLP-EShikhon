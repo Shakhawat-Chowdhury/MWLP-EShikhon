{
 "cells": [
  {
   "cell_type": "markdown",
   "id": "858412ba",
   "metadata": {},
   "source": [
    "# Exam 1: Eshikhon - SC"
   ]
  },
  {
   "cell_type": "code",
   "execution_count": 25,
   "id": "d12d3a35",
   "metadata": {},
   "outputs": [
    {
     "name": "stdout",
     "output_type": "stream",
     "text": [
      "Title: Menz Solid Color Full Sleeve Tshirt - Tshirt - T Shirt\n",
      "Total Rating: 462 Ratings\n",
      "Sale Price: ৳ 106\n",
      "Enjoy Discount: -70%\n",
      "Customer Rating 4.3\n",
      "Picture https://static-01.daraz.com.bd/p/a60f59541c06ebfd13581c05631a2ad0.jpg_100x100.jpg_.webp\n",
      "Picture https://static-01.daraz.com.bd/p/478910acc23ddbd8692d78230f45a681.jpg_100x100.jpg_.webp\n",
      "Picture https://static-01.daraz.com.bd/p/a7bf0ce1fb1190939e02432eb0fa17fd.jpg_100x100.jpg_.webp\n",
      "['The product quality is good, thanks Daraz to provide me the exact product.', 'Order koraci ek color diaca onno color 😒\\nOrder korar somoy message dieo bollam check kore dite tar por o ai obostha. R product er quality o valo na. Fabric ta khub patla. Apas thake opas dekha jay easily. onno seller er kase thake nen apnara. NOT RECOMMENDED ❌❌👎🏻', 'আলহামদুলিল্লাহ দারাজকে ধন্যবাদ।\\nপাতলা গেঞ্জি গরমের সময় পড়ার জন্য খুবই উপযোগী খুব পছন্দ হয়েছে। যারা জামা বা পাঞ্জাবির নিচে পড়তে চান তারা নিতে পারেন।', 'গেঞ্জি + কাপর ভালোই😊 ২ পিছ অর্ডার করছিলাম। একটা ভালোই ছিলো৷ অন্য টা বডি এক কালার হাতা অন্য কালার। বডি একটু সাদা আর হাতা নীল😢\\n\\nজার্সি কাপর পাতলা ছিলো। গরমের সময় পরে ভালো লাগবে। দাম হিসেবে গেঞ্জি ঠিক আছে। শুধু ডেলিভারি চার্জ বেশি হয়ে যায় ৫৫ টাকা । 💔', 'T Shirt Ta Onek Valo . Dam Onujaye Man Valo .Nite Paren. Thokben Na. In Sah Allah.✌️']\n"
     ]
    }
   ],
   "source": [
    "from selenium import webdriver\n",
    "import urllib.request\n",
    "from selenium.webdriver.chrome.service import Service\n",
    "from selenium.webdriver.common.by import By\n",
    "import urllib.request\n",
    "import time\n",
    "service = Service(executable_path='C:/Users/Shakhawat Chowdhury/chromedriver-win64/chromedriver.exe')\n",
    "options = webdriver.ChromeOptions()\n",
    "driver = webdriver.Chrome(service=service, options=options)\n",
    "driver.maximize_window()\n",
    "\n",
    "driver.get('https://www.daraz.com.bd/products/menz-solid-color-full-sleeve-tshirt-tshirt-t-shirt-i214457900-s1163410501.html')\n",
    "        \n",
    "\n",
    "height = driver.execute_script('return document.body.scrollHeight')\n",
    "for k in range(0, height + 300, 30):\n",
    "    driver.execute_script(f'window.scrollTo(0, {k});')\n",
    "    time.sleep(0.1)\n",
    "\n",
    "title = driver.find_element(By.XPATH,'//*[@id=\"module_product_title_1\"]/div/div/span').text\n",
    "rating = driver.find_element(By.XPATH,'//*[@id=\"module_product_review_star_1\"]/div/a').text\n",
    "price = driver.find_element(By.XPATH,'//*[@id=\"module_product_price_1\"]/div/div/span').text\n",
    "discount = driver.find_element(By.XPATH,'//*[@id=\"module_product_price_1\"]/div/div/div/span[2]').text\n",
    "point = driver.find_element(By.XPATH,'//*[@id=\"module_product_review\"]/div/div/div[1]/div[2]/div/div/div[1]/div[1]/span[1]').text\n",
    "\n",
    "image_list = []\n",
    "for i in range(1,4):\n",
    "    j = str(i)\n",
    "    img = driver.find_element(By.XPATH,'//*[@id=\"module_item_gallery_1\"]/div/div[2]/div/div[1]/div/div['+j+']/div/img').get_attribute('src')\n",
    "    image_list.append(img)\n",
    "    \n",
    "comment_list = []\n",
    "for comment in driver.find_elements(By.CSS_SELECTOR, '.mod-reviews .content'):\n",
    "    comment_list.append(comment.text)\n",
    "\n",
    "print(\"Title:\", title)\n",
    "print(\"Total Rating:\", rating)\n",
    "print(\"Sale Price:\", price)\n",
    "print(\"Enjoy Discount:\", discount)\n",
    "print(\"Customer Rating\", point)\n",
    "for x in image_list:\n",
    "    print(\"Picture\", x)\n",
    "print(comment_list)\n",
    "\n",
    "import pandas as pd\n",
    "title_dic={'title':title,'rating':rating,'point':point,'price':price,'discount':discount,'comment':comment_list}\n",
    "df = pd.DataFrame(title_dic)\n",
    "df.to_csv('output.csv', index=False)\n",
    "\n",
    "time.sleep(20)\n"
   ]
  },
  {
   "cell_type": "code",
   "execution_count": null,
   "id": "b576d361",
   "metadata": {},
   "outputs": [],
   "source": []
  }
 ],
 "metadata": {
  "kernelspec": {
   "display_name": "Python 3 (ipykernel)",
   "language": "python",
   "name": "python3"
  },
  "language_info": {
   "codemirror_mode": {
    "name": "ipython",
    "version": 3
   },
   "file_extension": ".py",
   "mimetype": "text/x-python",
   "name": "python",
   "nbconvert_exporter": "python",
   "pygments_lexer": "ipython3",
   "version": "3.11.4"
  }
 },
 "nbformat": 4,
 "nbformat_minor": 5
}
