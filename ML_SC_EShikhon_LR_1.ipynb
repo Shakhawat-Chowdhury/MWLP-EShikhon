{
 "cells": [
  {
   "cell_type": "code",
   "execution_count": 34,
   "id": "76da8d56",
   "metadata": {},
   "outputs": [
    {
     "name": "stdout",
     "output_type": "stream",
     "text": [
      "   X     Y\n",
      "0  3   4.5\n",
      "1  4   5.5\n",
      "2  6  10.0\n",
      "3  7  11.0\n",
      "4  8  13.0\n",
      "28 44.0 174 440.5 276.5\n",
      "Slope: 1.75 ; Coeff: -1.0\n",
      "7.75\n"
     ]
    }
   ],
   "source": [
    "import pandas as pd\n",
    "da = pd.read_excel(\"ML_EShikhon_Data_1.xlsx\")\n",
    "n = 5\n",
    "sum_x = sum(da.X)\n",
    "sum_y = sum(da.Y)\n",
    "sum_x2 = sum(da.X**2)\n",
    "sum_y2 = sum(da.Y**2)\n",
    "sum_xy = sum(da.X*da.Y)\n",
    "m = (n*(sum_xy) - sum_x*sum_y)/(n*sum_x2 - sum_x**2)\n",
    "c = (sum_y*sum_x2 - sum_x*sum_xy)/(n*sum_x2 - sum_x**2)\n",
    "print(da)\n",
    "\n",
    "print(sum_x, sum_y, sum_x2, sum_y2, sum_xy)\n",
    "print(\"Slope:\", m, \"; Coeff:\", c)\n",
    "x = 5\n",
    "y = m*x + c\n",
    "print(y)"
   ]
  },
  {
   "cell_type": "code",
   "execution_count": null,
   "id": "799bdfcb",
   "metadata": {},
   "outputs": [],
   "source": []
  }
 ],
 "metadata": {
  "kernelspec": {
   "display_name": "Python 3 (ipykernel)",
   "language": "python",
   "name": "python3"
  },
  "language_info": {
   "codemirror_mode": {
    "name": "ipython",
    "version": 3
   },
   "file_extension": ".py",
   "mimetype": "text/x-python",
   "name": "python",
   "nbconvert_exporter": "python",
   "pygments_lexer": "ipython3",
   "version": "3.11.4"
  }
 },
 "nbformat": 4,
 "nbformat_minor": 5
}
