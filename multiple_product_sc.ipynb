{
 "cells": [
  {
   "cell_type": "code",
   "execution_count": 1,
   "id": "92a7f38f",
   "metadata": {},
   "outputs": [
    {
     "name": "stdout",
     "output_type": "stream",
     "text": [
      "8\n",
      "320\n"
     ]
    }
   ],
   "source": [
    "n_total = 308\n",
    "n_p_page = 40\n",
    "n_page = n_total/n_p_page\n",
    "if n_page == int:\n",
    "    x = n_page\n",
    "elif n_page > round(n_page):\n",
    "    x = round(n_page)+1\n",
    "else:\n",
    "    x = round(n_page)\n",
    "print(x)\n",
    "\n",
    "from selenium import webdriver\n",
    "from selenium.webdriver.common.by import By\n",
    "import urllib.request\n",
    "#from webdriver_manager.chrome import ChromeDriverManager\n",
    "import time\n",
    "\n",
    "from selenium.webdriver.chrome.service import Service\n",
    "\n",
    "service = Service(executable_path='C:/Users/Shakhawat Chowdhury/chromedriver-win64/chromedriver.exe')\n",
    "options = webdriver.ChromeOptions()\n",
    "driver = webdriver.Chrome(service=service, options=options)\n",
    "driver.maximize_window()\n",
    "\n",
    "title_list = []\n",
    "\n",
    "link_list = []\n",
    "\n",
    "weblink_list = []\n",
    "\n",
    "price_list = []\n",
    "\n",
    "image_list = []\n",
    "\n",
    "for page in range(1,x+1):\n",
    "    driver.get('https://www.daraz.com.bd/smartphones/?page=1&spm=a2a0e.home.cate_6.1.735212f7bC2j5n'+str(page))\n",
    "    for i in range(1,41):\n",
    "     #i should be type cast\n",
    "        j=str(i)\n",
    "        title = driver.find_element(By.XPATH,'//*[@id=\"root\"]/div/div[3]/div[1]/div/div[1]/div[2]/div['+j+']/div/div/div[2]/div[2]/a')\n",
    "        title_list.append(title.text)       \n",
    "        link_list.append(title.get_attribute('href')) ## Getting link directly from through title\n",
    "        \n",
    "        ## Getting weblink dusing X-PATH of title\n",
    "        weblink = driver.find_element(By.XPATH,'//*[@id=\"root\"]/div/div[3]/div[1]/div/div[1]/div[2]/div['+j+']/div/div/div[2]/div[2]/a')\n",
    "        weblink_list.append(weblink.get_attribute('href'))\n",
    "        \n",
    "        price = driver.find_element(By.XPATH,'//*[@id=\"root\"]/div/div[3]/div[1]/div/div[1]/div[2]/div['+j+']/div/div/div[2]/div[3]/span')\n",
    "        price_list.append(price.text)\n",
    "        \n",
    "        image = driver.find_element(By.XPATH,'//*[@id=\"root\"]/div/div[3]/div[1]/div/div[1]/div[2]/div['+j+']/div/div/div[1]/div/a/img')\n",
    "        image_list.append(image.get_attribute('src'))            \n",
    "        \n",
    "#print(title_list)\n",
    "print(len(title_list))\n",
    "\n",
    "import pandas as pd\n",
    "title_dict = {\"Title\": title_list,'Link':link_list,'Price':price_list, 'Image': image_list, 'Weblink':weblink_list}\n",
    "df = pd.DataFrame(title_dict)\n",
    "df.to_csv('Phone.csv',index=False)\n",
    "time.sleep(10)"
   ]
  },
  {
   "cell_type": "code",
   "execution_count": null,
   "id": "387385db",
   "metadata": {},
   "outputs": [],
   "source": []
  }
 ],
 "metadata": {
  "kernelspec": {
   "display_name": "Python 3 (ipykernel)",
   "language": "python",
   "name": "python3"
  },
  "language_info": {
   "codemirror_mode": {
    "name": "ipython",
    "version": 3
   },
   "file_extension": ".py",
   "mimetype": "text/x-python",
   "name": "python",
   "nbconvert_exporter": "python",
   "pygments_lexer": "ipython3",
   "version": "3.11.4"
  }
 },
 "nbformat": 4,
 "nbformat_minor": 5
}
